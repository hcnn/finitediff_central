{
 "cells": [
  {
   "cell_type": "raw",
   "metadata": {},
   "source": [
    "---\n",
    "title: \"finitediff_central\"\n",
    "date: 2018-08-21T10:00:00+02:00\n",
    "draft: false\n",
    "tags: [finitediff_central]\n",
    "---"
   ]
  },
  {
   "cell_type": "markdown",
   "metadata": {},
   "source": [
    "### Notation\n",
    "\n",
    "| symbol | set | code | description |\n",
    "|:------:|:---:|:----:|:------------|\n",
    "| $f$    | $\\mathbb{R}$ | `myfunc` | the function |\n",
    "| $\\mathbf{X}$ | $\\mathbb{R}^n$ | `X` | vector with variables |\n",
    "| $x_i$ | $\\mathbb{R}$ | `x[i]` | the $i$-th variable  |\n",
    "| $h$ | $\\{h \\in \\mathbb{R} \\| h>0 \\}$ | `h` | increment parameter (step size, band width) |\n",
    "| $\\frac{\\partial f(\\mathbf{X})}{\\partial x_i}$ | $\\mathbb{R}$ | `g[i]` | partial derivative for the $i$-th variable |\n",
    "| $\\nabla f$ | $\\mathbb{R}^n$ | `g` | gradient vector |\n"
   ]
  },
  {
   "cell_type": "markdown",
   "metadata": {},
   "source": [
    "### Central Difference Approximation\n",
    "The **central difference approximation** (symmetric difference quotient) addresses these issue, \n",
    "that forward and backward difference approximation are never compute in point $\\mathbf{X}$.\n",
    "The partial derivative approximation or gradient $g^c_i$ lies around point $\\mathbf{X}$, \n",
    "and a smaller bias toward bigger or smaller gradients depending on the curvature.\n",
    "\n",
    "$$\n",
    "\\frac{\\partial f(\\mathbf{X})}{\\partial x_i} \n",
    "\\approx g^c_i \n",
    "= \\frac{f(\\mathbf{X} + h \\cdot 1_i) - f(\\mathbf{X} - h \\cdot 1_i)}{2 \\cdot h}\n",
    "$$\n",
    "\n"
   ]
  },
  {
   "cell_type": "markdown",
   "metadata": {},
   "source": [
    "### C Implementation\n",
    "The central difference approximation requires `n*2` function evaluations and thus is higher than for forward or backward approximation `n+1`.\n",
    "\n",
    "The `x` array is temporarily manipulated in `finitediff_central` two times.\n",
    "First, the `x[i]` value is backed up as `tmp`.\n",
    "Second, the bandwidth `h` is **added** to compute `f0`.\n",
    "Aftwards, the backup `tmp` **minus** `h` is assigned to `x[i]` to compute `f1`.\n",
    "Fourth, `tmp` is reassigned to `x[i]`.\n",
    "And finally, `g[i]` is computed with `f0` and `f1`."
   ]
  },
  {
   "cell_type": "code",
   "execution_count": 1,
   "metadata": {
    "ExecuteTime": {
     "end_time": "2018-08-21T08:08:57.668288Z",
     "start_time": "2018-08-21T08:08:57.525865Z"
    }
   },
   "outputs": [
    {
     "name": "stdout",
     "output_type": "stream",
     "text": [
      "x: -0.6000 | g(x): -0.0923 \n",
      "x: -0.5000 | g(x): -0.0769 \n",
      "x: -0.4000 | g(x): -0.0615 \n",
      "x: -0.3000 | g(x): -0.0462 \n",
      "x: -0.2000 | g(x): -0.0308 \n",
      "x: -0.1000 | g(x): -0.0154 \n",
      "x:  0.0000 | g(x):  0.0000 \n",
      "x:  0.1000 | g(x):  0.0154 \n",
      "x:  0.2000 | g(x):  0.0308 \n",
      "x:  0.3000 | g(x):  0.0462 \n",
      "x:  0.4000 | g(x):  0.0615 \n",
      "x:  0.5000 | g(x):  0.0769 \n",
      "x:  0.6000 | g(x):  0.0923 \n"
     ]
    }
   ],
   "source": [
    "#include <stdio.h>  \n",
    "\n",
    "/**************************************************\n",
    " ************* finitediff_central.h ***************\n",
    " **************************************************/\n",
    "void finitediff_central(double (*f)(double*, int), \n",
    "                        double *x, \n",
    "                        int n, \n",
    "                        double h, \n",
    "                        double *g){\n",
    "    double tmp, f0, f1;\n",
    "    double h2 = 2.0*h;\n",
    "    for (int i=0; i<n; i++){\n",
    "        tmp = x[i]; //store x[i] temporarly\n",
    "        x[i] += h;  //add bandwidth param\n",
    "        f0 = f(x,n); //left \n",
    "        x[i] = tmp - h; //reassign x[i] minus bandwith\n",
    "        f1 = f(x,n); //right\n",
    "        x[i] = tmp;  //reassign orginal x[i] for next i\n",
    "        g[i] = (f0 - f1) / h2; //difference\n",
    "    }\n",
    "} \n",
    "\n",
    "\n",
    "/**************************************************\n",
    " **************** EXAMPLE SCRIPT ******************\n",
    " **************************************************/\n",
    "double myfunc(double *x, int n){\n",
    "    double f = 0.0;\n",
    "    for(int i=0; i<n; i++){\n",
    "        f += x[i] * x[i];\n",
    "    }\n",
    "    f /= (double)n;\n",
    "    return f;\n",
    "}\n",
    "\n",
    "int main(){\n",
    "    double (*evalfunc)(double*, int) = &myfunc;\n",
    "    double x[]={-.6, -.5, -.4, -.3, -.2, -.1, \n",
    "                0.0, .1 , .2, .3, .4, .5, .6};\n",
    "    int n = 13;\n",
    "    double g[n];\n",
    "    double h = 0.001;\n",
    "    \n",
    "    finitediff_central(evalfunc, x, n, h, g);\n",
    "    \n",
    "    for(int i=0; i<n; i++){\n",
    "        printf(\"x: %7.4f | g(x): %7.4f \\n\", x[i], g[i] );\n",
    "    }\n",
    "    \n",
    "    return 0;\n",
    "}\n"
   ]
  }
 ],
 "metadata": {
  "kernelspec": {
   "display_name": "C",
   "language": "c",
   "name": "c"
  },
  "language_info": {
   "file_extension": ".c",
   "mimetype": "text/plain",
   "name": "c"
  },
  "varInspector": {
   "cols": {
    "lenName": 16,
    "lenType": 16,
    "lenVar": 40
   },
   "kernels_config": {
    "python": {
     "delete_cmd_postfix": "",
     "delete_cmd_prefix": "del ",
     "library": "var_list.py",
     "varRefreshCmd": "print(var_dic_list())"
    },
    "r": {
     "delete_cmd_postfix": ") ",
     "delete_cmd_prefix": "rm(",
     "library": "var_list.r",
     "varRefreshCmd": "cat(var_dic_list()) "
    }
   },
   "types_to_exclude": [
    "module",
    "function",
    "builtin_function_or_method",
    "instance",
    "_Feature"
   ],
   "window_display": false
  }
 },
 "nbformat": 4,
 "nbformat_minor": 2
}
